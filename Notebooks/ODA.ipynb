{
 "cells": [
  {
   "cell_type": "markdown",
   "metadata": {},
   "source": [
    "# OPERATIVE SECTION -01"
   ]
  },
  {
   "cell_type": "code",
   "execution_count": 1,
   "metadata": {},
   "outputs": [
    {
     "name": "stdout",
     "output_type": "stream",
     "text": [
      "Index(['Unnamed: 0', 'trans_date_trans_time', 'cc_num', 'merchant', 'category',\n",
      "       'amt', 'first', 'last', 'gender', 'street', 'city', 'state', 'zip',\n",
      "       'lat', 'long', 'city_pop', 'job', 'dob', 'trans_num', 'unix_time',\n",
      "       'merch_lat', 'merch_long', 'is_fraud', 'merch_zipcode', 'Date', 'Time',\n",
      "       'company_parts', 'merchant_fraud_rate'],\n",
      "      dtype='object')\n",
      "Index(['Transaction ID', 'Date', 'Day of Week', 'Time', 'Type of Card',\n",
      "       'Entry Mode', 'Amount', 'Type of Transaction', 'Merchant Group',\n",
      "       'Country of Transaction', 'Shipping Address', 'Country of Residence',\n",
      "       'Gender', 'Age', 'Bank', 'Fraud'],\n",
      "      dtype='object')\n"
     ]
    }
   ],
   "source": [
    "import pandas as pd\n",
    "\n",
    "df_1 = pd.read_csv(\"D:/Credit_Card_Spend_Analysis/data/credit_1.csv\")\n",
    "df_2 = pd.read_csv(\"D:/Credit_Card_Spend_Analysis/data/credit-2.csv\")\n",
    "\n",
    "print(df_1.columns)\n",
    "print(df_2.columns)"
   ]
  },
  {
   "cell_type": "code",
   "execution_count": 2,
   "metadata": {},
   "outputs": [
    {
     "name": "stdout",
     "output_type": "stream",
     "text": [
      "[   4425161475596168    4904681492230012     180048185037117\n",
      " 4469777115158234880     370348764075623      38797410705641\n",
      "    4874006077381178      36890292963032     378278619832195\n",
      "    3562264947797243]\n",
      "['#3577 209' '#3039 221' '#2694 780' '#2640 960' '#2771 031' '#3446 698'\n",
      " '#3652 191' '#3161 927' '#3025 809' '#3413 696']\n"
     ]
    }
   ],
   "source": [
    "print(df_1['cc_num'].unique()[:10])\n",
    "print(df_2['Transaction ID'].unique()[:10])\n"
   ]
  },
  {
   "cell_type": "code",
   "execution_count": 3,
   "metadata": {},
   "outputs": [],
   "source": [
    "df_2['Transaction ID'] = df_2['Transaction ID'].str.replace(\"#\", \"\").str.replace(\" \", \"\").astype(str)\n"
   ]
  },
  {
   "cell_type": "code",
   "execution_count": 4,
   "metadata": {},
   "outputs": [
    {
     "data": {
      "text/plain": [
       "0        3577209\n",
       "1        3039221\n",
       "2        2694780\n",
       "3        2640960\n",
       "4        2771031\n",
       "          ...   \n",
       "99995    3203892\n",
       "99996    3304849\n",
       "99997    3532129\n",
       "99998    3107092\n",
       "99999    3400711\n",
       "Name: Transaction ID, Length: 100000, dtype: object"
      ]
     },
     "execution_count": 4,
     "metadata": {},
     "output_type": "execute_result"
    }
   ],
   "source": [
    "df_2['Transaction ID']"
   ]
  },
  {
   "cell_type": "code",
   "execution_count": 5,
   "metadata": {},
   "outputs": [
    {
     "name": "stdout",
     "output_type": "stream",
     "text": [
      "                cc_num\n",
      "0     4425161475596168\n",
      "1     4904681492230012\n",
      "2      180048185037117\n",
      "3  4469777115158234880\n",
      "4      370348764075623\n",
      "5       38797410705641\n",
      "6     4874006077381178\n",
      "7       36890292963032\n",
      "8      378278619832195\n",
      "9     3562264947797243\n",
      "  Transaction ID\n",
      "0        3577209\n",
      "1        3039221\n",
      "2        2694780\n",
      "3        2640960\n",
      "4        2771031\n",
      "5        3446698\n",
      "6        3652191\n",
      "7        3161927\n",
      "8        3025809\n",
      "9        3413696\n"
     ]
    }
   ],
   "source": [
    "print(df_1[['cc_num']].head(10))\n",
    "print(df_2[['Transaction ID']].head(10))\n"
   ]
  },
  {
   "cell_type": "code",
   "execution_count": 9,
   "metadata": {},
   "outputs": [
    {
     "data": {
      "text/plain": [
       "(100000, 28)"
      ]
     },
     "execution_count": 9,
     "metadata": {},
     "output_type": "execute_result"
    }
   ],
   "source": [
    "df_1.shape"
   ]
  },
  {
   "cell_type": "code",
   "execution_count": 10,
   "metadata": {},
   "outputs": [
    {
     "data": {
      "text/plain": [
       "(100000, 16)"
      ]
     },
     "execution_count": 10,
     "metadata": {},
     "output_type": "execute_result"
    }
   ],
   "source": [
    "df_2.shape"
   ]
  },
  {
   "cell_type": "code",
   "execution_count": 155,
   "metadata": {},
   "outputs": [
    {
     "name": "stdout",
     "output_type": "stream",
     "text": [
      "Final DataFrame shape: (100000, 24)\n"
     ]
    }
   ],
   "source": [
    "# Step 1: Drop NaN (null) values\n",
    "df_2 = df_2.dropna()\n",
    "\n",
    "# Step 2: Calculate how many more rows need to be removed\n",
    "rows_to_drop = 1196675 - (1296675 - len(df_2))  # Adjust for already dropped NaN rows\n",
    "\n",
    "# Step 3: Drop the remaining rows from the top\n",
    "if rows_to_drop > 0:\n",
    "    df = df_2.iloc[rows_to_drop:]\n",
    "\n",
    "# Print final shape of the DataFrame\n",
    "print(\"Final DataFrame shape:\", df.shape)"
   ]
  },
  {
   "cell_type": "code",
   "execution_count": 12,
   "metadata": {},
   "outputs": [],
   "source": [
    "df_1['Date'] = pd.to_datetime(df_1['trans_date_trans_time']).dt.date\n",
    "df_1['Time'] = pd.to_datetime(df_1['trans_date_trans_time']).dt.time\n"
   ]
  },
  {
   "cell_type": "code",
   "execution_count": 14,
   "metadata": {},
   "outputs": [
    {
     "data": {
      "text/plain": [
       "array(['misc_net', 'grocery_pos', 'grocery_net', 'shopping_pos',\n",
       "       'shopping_net', 'gas_transport', 'misc_pos', 'food_dining',\n",
       "       'entertainment', 'health_fitness', 'personal_care', 'home',\n",
       "       'kids_pets', 'travel'], dtype=object)"
      ]
     },
     "execution_count": 14,
     "metadata": {},
     "output_type": "execute_result"
    }
   ],
   "source": [
    "df_1['category'].unique()"
   ]
  },
  {
   "cell_type": "code",
   "execution_count": 15,
   "metadata": {},
   "outputs": [],
   "source": [
    "df_1['merchant'] = df_1['merchant'].str.replace(r'^fraud_', '', regex=True)\n"
   ]
  },
  {
   "cell_type": "code",
   "execution_count": 16,
   "metadata": {},
   "outputs": [
    {
     "name": "stdout",
     "output_type": "stream",
     "text": [
      "Number of unique merchants: 693\n"
     ]
    }
   ],
   "source": [
    "unique_merchants = df_1['merchant'].nunique()\n",
    "print(f\"Number of unique merchants: {unique_merchants}\")\n"
   ]
  },
  {
   "cell_type": "code",
   "execution_count": 17,
   "metadata": {},
   "outputs": [
    {
     "name": "stdout",
     "output_type": "stream",
     "text": [
      "merchant\n",
      "Kilback LLC         385\n",
      "Boyer PLC           291\n",
      "Kuhn LLC            291\n",
      "Cormier LLC         275\n",
      "Schumm PLC          274\n",
      "Dickinson Ltd       270\n",
      "Huels-Nolan         245\n",
      "Erdman-Kertzmann    241\n",
      "Cummerata-Jones     238\n",
      "Luettgen PLC        238\n",
      "Name: count, dtype: int64\n"
     ]
    }
   ],
   "source": [
    "fraud_counts = df_1['merchant'].value_counts()\n",
    "print(fraud_counts.head(10))  # Show top 10 merchants with most fraud cases\n"
   ]
  },
  {
   "cell_type": "code",
   "execution_count": 18,
   "metadata": {},
   "outputs": [
    {
     "name": "stdout",
     "output_type": "stream",
     "text": [
      "company_parts\n",
      "             24900\n",
      "Sons          5637\n",
      "Goyette       1279\n",
      "Friesen       1215\n",
      "Kutch         1212\n",
      "Koss          1178\n",
      "Erdman        1056\n",
      "Bahringer     1054\n",
      "Conroy        1051\n",
      "Reichert      1039\n",
      "Kilback       1034\n",
      "Koepp         1010\n",
      "Weimann       1002\n",
      "Bins           989\n",
      "Schaefer       976\n",
      "Hills          971\n",
      "Harris         960\n",
      "Greenholt      953\n",
      "Streich        947\n",
      "Bauch          944\n",
      "Name: count, dtype: int64\n"
     ]
    }
   ],
   "source": [
    "df_1['company_parts'] = df_1['merchant'].str.split('-|, | and | LLC| Inc| Ltd| PLC')\n",
    "all_parts = df_1['company_parts'].explode()\n",
    "common_parts = all_parts.value_counts()\n",
    "print(common_parts.head(20))  # Show most common company name words\n"
   ]
  },
  {
   "cell_type": "markdown",
   "metadata": {},
   "source": [
    "# OPERATIVE SECTION -02"
   ]
  },
  {
   "cell_type": "code",
   "execution_count": 19,
   "metadata": {},
   "outputs": [
    {
     "data": {
      "image/png": "[encoded data removed]",
      "text/plain": [
       "<Figure size 1000x500 with 1 Axes>"
      ]
     },
     "metadata": {},
     "output_type": "display_data"
    }
   ],
   "source": [
    "import matplotlib.pyplot as plt\n",
    "\n",
    "fraud_counts.head(10).plot(kind='barh', figsize=(10, 5), title='Top 10 Merchants with Most Fraud Cases')\n",
    "plt.xlabel('Number of Fraud Cases')\n",
    "plt.ylabel('Merchant')\n",
    "plt.show()\n"
   ]
  },
  {
   "cell_type": "code",
   "execution_count": 21,
   "metadata": {},
   "outputs": [
    {
     "data": {
      "text/plain": [
       "array(['Block-Parisian', 'Osinski, Ledner and Leuschke',\n",
       "       'Rodriguez, Yost and Jenkins', 'Kutch-Hegmann',\n",
       "       'Willms, Kris and Bergnaum', 'Koelpin and Sons', 'DuBuque LLC',\n",
       "       'Reichert, Huels and Hoppe', 'Macejkovic-Lesch', 'Marks Inc',\n",
       "       'Zieme, Bode and Dooley', 'Thiel PLC',\n",
       "       'Kutch, Steuber and Gerhold', 'Towne LLC',\n",
       "       'Rowe, Batz and Goodwin', 'Streich, Hansen and Veum',\n",
       "       'Swaniawski, Bahringer and Ledner', 'Heaney-Marquardt',\n",
       "       'Dooley-Thompson', 'Roob LLC', 'Lehner, Reichert and Mills',\n",
       "       'Cummerata-Jones', 'Dooley Inc', 'Durgan-Auer', 'Dibbert-Green',\n",
       "       'Jenkins, Hauck and Friesen', 'Towne, Greenholt and Koepp',\n",
       "       'Medhurst PLC', 'Kilback LLC', 'Kerluke Inc', 'Simonis-Prohaska',\n",
       "       'Heller-Abshire', 'Schmidt and Sons', 'Parisian and Sons',\n",
       "       'Hudson-Ratke', 'Torp-Labadie', 'Huels-Hahn', 'Huel-Langworth',\n",
       "       'Brekke and Sons', \"O'Keefe-Hudson\", 'Kassulke Inc', 'Sawayn PLC',\n",
       "       'Johnson, Runolfsdottir and Mayer', 'Schmitt Inc',\n",
       "       'Schumm, Bauch and Ondricka', 'Goldner, Kovacek and Abbott',\n",
       "       \"Pacocha-O'Reilly\", 'Auer-West', 'Ledner-Pfannerstill',\n",
       "       'Baumbach, Hodkiewicz and Walsh', 'Rodriguez Group', 'Haley Group',\n",
       "       'Kutch LLC', 'Howe Ltd', 'Daugherty, Pouros and Beahan',\n",
       "       'Connelly, Reichert and Fritsch', 'Cremin, Hamill and Reichel',\n",
       "       'Wolf Inc', 'Lind, Huel and McClure', 'Gutmann Ltd',\n",
       "       'Daugherty-Thompson', 'Maggio-Fahey', 'Cole PLC',\n",
       "       'Cartwright-Harris', 'Morissette PLC', 'Skiles-Ankunding',\n",
       "       'Donnelly PLC', 'Schmitt Ltd', 'Bruen-Yost', 'Cummings LLC',\n",
       "       'Kutch and Sons', 'Kling-Grant', 'Johnston, Nikolaus and Maggio',\n",
       "       'Mosciski, Gislason and Mertz', 'Kunze Inc', 'Lesch Ltd',\n",
       "       'Kihn Inc', 'Altenwerth, Cartwright and Koss', 'Miller-Hauck',\n",
       "       'Luettgen PLC', 'Zemlak Group', 'Hackett-Lueilwitz',\n",
       "       'Balistreri-Nader', 'Heidenreich PLC', 'Bailey-Morar',\n",
       "       'Heller-Langosh', 'Emard Inc', 'Padberg-Welch', 'Hickle Group',\n",
       "       'Dicki Ltd', 'Block Group', 'Monahan, Bogisich and Ledner',\n",
       "       'Eichmann-Russel', 'Bartoletti-Wunsch',\n",
       "       'Parisian, Schiller and Altenwerth',\n",
       "       'Christiansen, Goyette and Schamberger', 'Smith-Stokes',\n",
       "       'Kohler, Lindgren and Koelpin', 'Collier Inc', 'Barton Inc',\n",
       "       'Halvorson Group', 'Beier LLC', 'Robel, Cummerata and Prosacco',\n",
       "       'Auer-Mosciski', 'Pagac LLC', 'Cassin-Harvey', 'Huels-Nolan',\n",
       "       'Tromp, Kerluke and Glover', 'Kuhic LLC',\n",
       "       'Langworth, Boehm and Gulgowski', 'Lockman Ltd', 'McKenzie-Huels',\n",
       "       'Wiza, Schaden and Stark', 'Goodwin-Nitzsche', 'Friesen Inc',\n",
       "       'Gibson-Deckow', 'Nitzsche, Kessler and Wolff', 'Buckridge PLC',\n",
       "       'Little, Gutmann and Lynch', 'Lynch Ltd',\n",
       "       'Bahringer, Osinski and Block', 'Berge LLC',\n",
       "       'Kutch, Hermiston and Farrell', 'Harris Inc',\n",
       "       'Tillman, Dickinson and Labadie', 'McGlynn-Heathcote',\n",
       "       'Lockman, West and Runte', 'Koepp-Witting',\n",
       "       'Herman, Treutel and Dickens', 'Schaefer, McGlynn and Bosco',\n",
       "       'Corwin-Collins', 'Mosciski, Ziemann and Farrell',\n",
       "       'Roberts-Beahan', 'Swift, Bradtke and Marquardt',\n",
       "       'VonRueden Group', 'Schaefer, Maggio and Daugherty',\n",
       "       'McDermott-Rice', 'Price Inc', 'Huel, Hammes and Witting',\n",
       "       'Rutherford-Mertz', 'Mayert Group', 'Corwin-Gorczany',\n",
       "       'Jewess LLC', 'Olson, Becker and Koch', 'Bogisich Inc',\n",
       "       'Greenholt, Jacobi and Gleason', 'Johns-Hoeger',\n",
       "       'Romaguera, Cruickshank and Greenholt',\n",
       "       'Bernhard, Grant and Langworth', 'Huel Ltd', 'Fisher Inc',\n",
       "       'Cormier LLC', 'Conroy-Emard', 'Pouros-Haag', 'Klein Group',\n",
       "       'Dickinson Ltd', 'Spencer-Runolfsson', 'Emmerich-Luettgen',\n",
       "       'Friesen-Stamm', 'Pfeffer and Sons', 'Moen, Reinger and Murphy',\n",
       "       'Koss and Sons', 'Turcotte, McKenzie and Koss', 'Hintz-Bruen',\n",
       "       'Sporer Inc', 'Jast-McDermott', 'Hayes, Marquardt and Dibbert',\n",
       "       'Pouros-Conroy', 'Jaskolski-Dibbert', 'Welch Inc',\n",
       "       'Moore, Dibbert and Koepp', 'Gerlach Inc', 'Funk Group',\n",
       "       'Kiehn Inc', 'McCullough Group', 'Schumm PLC', 'Wuckert-Walter',\n",
       "       'Ruecker, Beer and Collier', 'Rau and Sons', 'Hills-Olson',\n",
       "       'Kuphal-Toy', 'Kiehn-Emmerich', 'Bins-Rice', 'Conroy-Cruickshank',\n",
       "       'Haag-Blanda', 'Stamm-Witting', \"Friesen-D'Amore\", 'Bradtke PLC',\n",
       "       'Heathcote, Yost and Kertzmann', 'Kerluke-Abshire',\n",
       "       'Tillman, Fritsch and Schmitt', 'Mante Group', 'Fisher-Schowalter',\n",
       "       'Effertz LLC', 'Kerluke, Considine and Macejkovic',\n",
       "       'Lehner, Mosciski and King', 'Brown PLC', 'Lind-Buckridge',\n",
       "       'Schuppe LLC', 'Pacocha-Bauch', 'Christiansen-Gusikowski',\n",
       "       'Brown-Greenholt', 'Bernier, Volkman and Hoeger', 'Kris-Weimann',\n",
       "       'Bogisich-Homenick', 'Bauch-Raynor', 'Stroman, Hudson and Erdman',\n",
       "       'Deckow-Dare', 'Wiegand-Lowe', 'Kuhic Inc', 'Nienow PLC',\n",
       "       'Murray Ltd', 'Miller-Harris', 'Gottlieb, Considine and Schultz',\n",
       "       'Morissette LLC', 'Upton PLC', 'Abshire PLC',\n",
       "       'Jones, Sawayn and Romaguera', 'Stracke-Lemke',\n",
       "       'Reichert, Rowe and Mraz', 'Metz-Boehm', 'Grimes LLC',\n",
       "       'Stoltenberg-Beatty', 'Frami Group', 'Torphy-Goyette',\n",
       "       'Heller, Gutmann and Zieme', 'Torphy-Kertzmann', 'Heathcote LLC',\n",
       "       'Hills-Boyer', 'Renner Ltd', 'Schoen, Nienow and Bauch',\n",
       "       'Windler, Goodwin and Kovacek', \"O'Hara-Wilderman\", 'Waelchi Inc',\n",
       "       'Weimann-Lockman', 'McDermott, Osinski and Morar',\n",
       "       'Eichmann, Hayes and Treutel', 'Hintz, Bauch and Smith',\n",
       "       'Abbott-Steuber', 'Schoen-Quigley', 'Cruickshank-Mills',\n",
       "       'Skiles LLC', 'Breitenberg-Hermiston', 'Breitenberg LLC',\n",
       "       'Klocko, Runolfsdottir and Breitenberg', 'Eichmann-Kilback',\n",
       "       'Terry, Johns and Bins', 'Altenwerth-Kilback', 'Larson-Moen',\n",
       "       'Hyatt, Russel and Gleichner', 'Wuckert-Goldner',\n",
       "       'Armstrong, Walter and Gottlieb', 'Beer-Jast', 'Bednar Group',\n",
       "       'Mohr-Bayer', 'Swaniawski, Nitzsche and Welch', 'Gerhold LLC',\n",
       "       'McCullough LLC', 'Stark-Batz', 'Rolfson-Kunde', 'Beier-Hyatt',\n",
       "       'Pollich LLC', 'Stanton, Jakubowski and Baumbach', 'Parker-Kunde',\n",
       "       'Ernser-Feest', 'Haley, Jewess and Bechtelar', 'Kuphal-Predovic',\n",
       "       'Turcotte-Halvorson', 'Osinski Inc', 'Schmidt-Larkin',\n",
       "       'Prosacco, Kreiger and Kovacek', 'Becker, Harris and Harvey',\n",
       "       'Bogisich-Weimann', 'Ziemann-Waters', 'Larkin Ltd',\n",
       "       'Champlin-Casper', 'Leannon-Nikolaus', 'Reichert-Weissnat',\n",
       "       'Roob-Okuneva', 'Kovacek Ltd', 'White and Sons',\n",
       "       'Hartmann, Rowe and Hermann', 'Yost, Schamberger and Windler',\n",
       "       'Yost, Block and Koepp', 'Windler LLC', 'Romaguera Ltd',\n",
       "       'Predovic Inc', 'Hackett Group', 'Kilback Group', 'Daugherty LLC',\n",
       "       'Homenick LLC', 'Rippin-VonRueden', 'Kessler Inc', 'Volkman PLC',\n",
       "       'Baumbach Ltd', 'Auer LLC', 'Durgan, Gislason and Spencer',\n",
       "       'Gottlieb Group', 'Roberts, Ryan and Smith', 'Powlowski-Weimann',\n",
       "       'Langosh, Wintheiser and Hyatt', 'Berge, Kautzer and Harris',\n",
       "       'Nolan-Williamson', 'Boyer-Reichert', 'Labadie LLC',\n",
       "       'Padberg-Rogahn', 'Kozey-Kuhlman', 'Hyatt-Blick',\n",
       "       'Witting, Beer and Ernser', 'Shields-Wunsch',\n",
       "       'Moore, Williamson and Emmerich', 'Feil, Hilpert and Koss',\n",
       "       'Erdman-Ebert', 'Bahringer, Bergnaum and Quitzon', 'Thiel Ltd',\n",
       "       \"O'Reilly, Mohr and Purdy\", 'Medhurst, Labadie and Gottlieb',\n",
       "       'Bartoletti and Sons', 'Brown, Homenick and Lesch', 'Runte-Mohr',\n",
       "       'Schroeder Group', 'Hettinger, McCullough and Fay', 'Swift PLC',\n",
       "       'Terry-Huel', 'Kutch-Wilderman', 'Keeling-Crist', 'Jacobi Inc',\n",
       "       'Turcotte, Batz and Buckridge', 'Beier and Sons', 'Emmerich-Rau',\n",
       "       'Reilly and Sons', 'Connelly PLC', 'Ankunding LLC',\n",
       "       'Parker, Nolan and Trantow', 'Crist, Jakubowski and Littel',\n",
       "       'Lynch-Wisozk', 'McCullough, Hudson and Schuster',\n",
       "       'Hauck, Dietrich and Funk', 'Dare-Gibson', 'Terry Ltd',\n",
       "       'Wilkinson PLC', 'Boehm, Predovic and Reinger',\n",
       "       'Walter, Hettinger and Kessler', 'Kautzer and Sons', 'Feil-Morar',\n",
       "       'Douglas, Schneider and Turner', 'Schroeder, Wolff and Hermiston',\n",
       "       'Graham, Hegmann and Hammes', 'Wilkinson Ltd', 'Kihn-Fritsch',\n",
       "       'Welch, Rath and Koepp', 'Nienow, Barrows and Romaguera',\n",
       "       \"O'Connell, Botsford and Hand\", 'Fritsch and Sons',\n",
       "       'Schaefer, Fay and Hilll', 'Lubowitz, Terry and Stracke',\n",
       "       'Hammes-Beatty', 'Gutmann, McLaughlin and Wiza', 'Kub-Heaney',\n",
       "       'Hermann and Sons', \"O'Connell-Ullrich\", 'Kozey-Boehm',\n",
       "       'Dare-Marvin', 'Dietrich-Fadel', 'Ullrich Ltd',\n",
       "       'Bins, Balistreri and Beatty', 'Denesik, Powlowski and Pouros',\n",
       "       'Bode-Rempel', 'Hills, Hegmann and Schaefer', 'Conroy Ltd',\n",
       "       'Monahan-Morar', 'Medhurst, Cartwright and Ebert', 'Kuhn LLC',\n",
       "       'Kunde-Sanford', 'Pouros, Walker and Spencer', 'Gislason Group',\n",
       "       'Douglas-White', 'Wuckert, Wintheiser and Friesen',\n",
       "       'Cole, Hills and Jewess', 'Cronin, Kshlerin and Weber',\n",
       "       'Fadel Inc', 'Treutel-King', 'Schaefer Ltd', 'Rau-Robel',\n",
       "       'Ledner, Hartmann and Feest', 'Kling, Howe and Schneider',\n",
       "       'Kunze, Larkin and Mayert', 'Crona and Sons',\n",
       "       'Streich, Dietrich and Barton', 'Jakubowski Inc',\n",
       "       'Dare, Casper and Bartoletti', 'Harris Group', 'Ruecker-Mayert',\n",
       "       'Brown Inc', 'Reilly LLC', 'Cartwright PLC', 'Herzog Ltd',\n",
       "       'Roberts, Daniel and Macejkovic', 'Donnelly LLC',\n",
       "       'Lowe, Dietrich and Erdman', 'Schroeder, Hauck and Treutel',\n",
       "       'Bechtelar-Rippin', 'Torp, Muller and Borer', 'Veum-Koelpin',\n",
       "       'Gleason-Macejkovic', 'Connelly-Carter', 'Adams-Barrows',\n",
       "       'Erdman-Schaden', 'Larkin, Stracke and Greenfelder', 'Stark-Koss',\n",
       "       'Schulist Ltd', 'Reinger, Weissnat and Strosin', 'Hilpert-Conroy',\n",
       "       'Friesen-Ortiz', 'Kris-Padberg', 'Bins-Howell',\n",
       "       'Labadie, Treutel and Bode', 'Kilback and Sons', 'Flatley Group',\n",
       "       'Volkman-Predovic', 'Marvin-Lind', 'Boehm, Block and Jakubowski',\n",
       "       'Stiedemann Inc', 'Schiller Ltd', 'Waters-Cruickshank',\n",
       "       'Herman Inc', 'Turner LLC', 'Nicolas, Hills and McGlynn',\n",
       "       'Goyette, Howell and Collier', 'Runolfsdottir, Mueller and Hand',\n",
       "       'Schuppe-Schuppe', 'Kuhic, Bins and Pfeffer', 'Greenholt Ltd',\n",
       "       'Langworth LLC', 'Berge-Hills', 'Erdman-Durgan', 'Goldner-Lemke',\n",
       "       'Fahey Inc', 'Weber and Sons', 'Wilkinson LLC', 'Torp-Lemke',\n",
       "       'Will Ltd', 'Turner, Ruecker and Parisian', 'Waelchi-Wolf',\n",
       "       'Nienow, Ankunding and Collier', 'Bauch-Blanda',\n",
       "       'Champlin and Sons', 'Gleason and Sons', 'Little Ltd',\n",
       "       'Bernier and Sons', 'Quitzon-Goyette',\n",
       "       'Romaguera, Wehner and Tromp', 'Kihn-Schuster', 'Vandervort-Funk',\n",
       "       'Weber, Thiel and Hammes', 'Fadel, Mertz and Rippin',\n",
       "       'Nader-Maggio', 'Jakubowski Group', 'Schoen Ltd',\n",
       "       'Little-Gleichner', 'Reichel LLC', 'Reichert, Shanahan and Hayes',\n",
       "       'Zemlak, Tillman and Cremin', 'Jast Ltd', 'Gaylord-Powlowski',\n",
       "       'Botsford and Sons', 'Mueller, Gerhold and Mueller',\n",
       "       'Cummerata-Hilpert', 'Ebert-Daugherty', 'Gutmann-Upton',\n",
       "       'Kuhn Group', 'Hamill-Daugherty', 'Heller PLC', 'Collier LLC',\n",
       "       'Pacocha-Weissnat', 'Lang, Towne and Schuppe',\n",
       "       'Schiller, Blanda and Johnson', 'Mohr Inc',\n",
       "       'Roob, Conn and Tremblay', 'Bode-Schuster', 'Bernhard-Lesch',\n",
       "       'Mosciski Group', 'Okuneva, Schneider and Rau', 'Berge-Ullrich',\n",
       "       'Block-Hauck', 'Bednar PLC', 'Shanahan-Lehner', 'Schmeler-Howe',\n",
       "       'Gulgowski LLC', 'Wisozk and Sons', 'Kihn, Brakus and Goyette',\n",
       "       'Schimmel-Olson', 'Schneider, Hayes and Nikolaus', 'Howe PLC',\n",
       "       'Schmeler, Bashirian and Price', 'Jast and Sons', 'Medhurst Inc',\n",
       "       'Weimann, Kuhic and Beahan', 'Turner and Sons', 'Lubowitz-Walter',\n",
       "       'Turner, Ziemann and Lehner', 'Stiedemann Ltd', 'Kling-Ernser',\n",
       "       'Bahringer-Streich', 'Hahn, Bahringer and McLaughlin',\n",
       "       'Effertz, Welch and Schowalter', 'Yost-Rogahn', 'Zboncak Ltd',\n",
       "       'Rohan, White and Aufderhar', 'Stamm-Rodriguez',\n",
       "       'Koss, Hansen and Lueilwitz', 'Dare, Fritsch and Zboncak',\n",
       "       'Thiel-Thiel', 'Hodkiewicz, Prohaska and Paucek',\n",
       "       'Bahringer, Schoen and Corkery', 'Lakin, Ferry and Beatty',\n",
       "       'Padberg-Sauer', 'Runte, Green and Emard', 'Jacobi and Sons',\n",
       "       'Goyette-Herzog', 'Hudson-Grady', 'Hermann-Gaylord',\n",
       "       'Thompson-Gleason', 'Abernathy and Sons', 'Rau-Grant',\n",
       "       'Mante, Luettgen and Hackett', 'Baumbach, Feeney and Morar',\n",
       "       'Bahringer Group', 'Hahn, Douglas and Schowalter',\n",
       "       'Graham and Sons', 'Fritsch LLC', 'Sporer-Keebler',\n",
       "       'Dickinson-Rempel', \"O'Keefe-Wisoky\", \"Lesch, D'Amore and Brown\",\n",
       "       'Baumbach, Strosin and Nicolas', 'Friesen Ltd', 'Leffler-Goldner',\n",
       "       'Nader-Heller', 'Swaniawski, Lowe and Robel',\n",
       "       'Kilback, Nitzsche and Leffler', 'Kertzmann LLC',\n",
       "       'Hermiston, Pacocha and Smith', 'Hermiston, Russel and Price',\n",
       "       'Barton LLC', 'Denesik and Sons', 'Streich Ltd', 'Kirlin and Sons',\n",
       "       'Koss, McLaughlin and Mayer', 'Goyette Inc', 'Kassulke PLC',\n",
       "       'Monahan, Hermann and Johns', 'Williamson LLC', 'Abbott-Rogahn',\n",
       "       'Prosacco LLC', 'Erdman-Kertzmann', 'Morar Inc',\n",
       "       'Harris, Gusikowski and Heaney', 'Spinka Inc', 'Mraz-Herzog',\n",
       "       'Kovacek, Dibbert and Ondricka', 'Eichmann, Bogan and Rodriguez',\n",
       "       'Raynor, Reinger and Hagenes', 'Boyer PLC', 'Lemke-Gutmann',\n",
       "       'Raynor, Feest and Miller', 'Morissette, Weber and Wiegand',\n",
       "       'McGlynn-Jaskolski', 'Kemmer-Reinger',\n",
       "       'Ferry, Reichel and DuBuque', 'Strosin-Cruickshank',\n",
       "       'Wintheiser, Dietrich and Schimmel', 'Bernhard Inc',\n",
       "       'Kuphal-Bartoletti', 'Trantow PLC', 'McDermott-Weimann',\n",
       "       'Prohaska-Murray', 'Quitzon, Green and Bashirian', 'Koepp-Parker',\n",
       "       'Runolfsson and Sons', \"Schamberger-O'Keefe\",\n",
       "       'Hagenes, Kohler and Hoppe', 'Paucek-Wiza',\n",
       "       'Schuppe, Nolan and Hoeger', 'Volkman Ltd', 'Kutch Group',\n",
       "       'Zboncak, Rowe and Murazik', 'Klocko LLC', 'Kuvalis Ltd',\n",
       "       'Rempel PLC', 'Schmeler Inc', 'Doyle Ltd', \"Deckow-O'Conner\",\n",
       "       'Greenfelder, Bartoletti and Davis', 'Bahringer-Larson',\n",
       "       'Reilly, Heaney and Cole', 'Schultz, Simonis and Little',\n",
       "       'Botsford Ltd', 'Bins-Tillman', 'Kerluke PLC', 'Shields Inc',\n",
       "       'Cormier, Stracke and Thiel', 'Dach-Borer',\n",
       "       'Schoen, Kuphal and Nitzsche', 'Casper, Hand and Zulauf',\n",
       "       'Barrows PLC', 'Jaskolski-Vandervort', 'Harber Inc', 'Kling Inc',\n",
       "       'Ruecker Group', 'Bernier, Streich and Jewess', 'Dach-Nader',\n",
       "       'Murray-Smitham', 'Bashirian Group', 'Spinka-Welch',\n",
       "       'Lebsack and Sons', 'Wiza LLC', 'Smitham-Boehm',\n",
       "       'Rippin, Kub and Mann', 'Hoppe, Harris and Bednar',\n",
       "       'Cummings Group', 'Towne, Walker and Borer',\n",
       "       'Kihn, Abernathy and Douglas', 'Carroll PLC',\n",
       "       'Schumm, McLaughlin and Carter', 'Hirthe-Beier', 'Goyette-Gerhold',\n",
       "       'Gottlieb-Hansen', 'Streich, Rolfson and Wilderman',\n",
       "       'Jerde-Hermann', 'Spencer PLC', 'Reichel Inc',\n",
       "       'Watsica, Haag and Considine', 'Botsford PLC', 'Lemke and Sons',\n",
       "       'Kris-Kertzmann', 'Reichel, Bradtke and Blanda',\n",
       "       'Ritchie, Oberbrunner and Cremin', 'Rempel Inc', 'Kozey-McDermott',\n",
       "       'Metz, Russel and Metz', \"Greenholt, O'Hara and Balistreri\",\n",
       "       'Kessler Group', 'Flatley-Durgan', 'Dibbert and Sons',\n",
       "       'Konopelski, Schneider and Hartmann',\n",
       "       'Champlin, Rolfson and Connelly', \"Hamill-D'Amore\", 'Boyer-Haley',\n",
       "       'Larson, Quitzon and Spencer', 'Kutch-Ferry',\n",
       "       'Haley, Batz and Auer', 'Watsica LLC', 'Crooks and Sons',\n",
       "       'Reynolds-Schinner', 'Kulas Group', 'Zboncak LLC', 'Tromp Group',\n",
       "       'Tillman LLC', 'Conroy, Balistreri and Gorczany', 'Ratke and Sons',\n",
       "       'Johns Inc', 'Zulauf LLC', 'Hills-Witting', 'Hoppe-Parisian',\n",
       "       'Bednar Inc', 'Ernser-Lynch', 'Bradtke, Torp and Bahringer',\n",
       "       'Romaguera and Sons', 'Fadel-Hilpert', 'Morissette-Schaefer',\n",
       "       'Smitham-Schiller', 'Ferry, Lynch and Kautzer',\n",
       "       'Stokes, Christiansen and Sipes', 'Ortiz Group',\n",
       "       'Stehr, Jewess and Schimmel', 'Johnston-Casper',\n",
       "       'McLaughlin, Armstrong and Koepp', 'Kemmer-Buckridge',\n",
       "       'Lynch-Mohr', 'Corwin-Romaguera',\n",
       "       'Rutherford, Homenick and Bergstrom',\n",
       "       'Kerluke, Kertzmann and Wiza', 'Rowe-Vandervort', 'Pfeffer LLC',\n",
       "       'Adams, Kovacek and Kuhlman', 'Kub PLC',\n",
       "       'Douglas, DuBuque and McKenzie', 'Leannon-Ward',\n",
       "       'Ankunding-Carroll', 'Ritchie, Bradtke and Stiedemann',\n",
       "       'Satterfield-Lowe', 'Hagenes, Hermann and Stroman'], dtype=object)"
      ]
     },
     "execution_count": 21,
     "metadata": {},
     "output_type": "execute_result"
    }
   ],
   "source": [
    "df_1['merchant'].unique()"
   ]
  },
  {
   "cell_type": "code",
   "execution_count": 22,
   "metadata": {},
   "outputs": [],
   "source": [
    "merchant_fraud_rate = df_1.groupby('merchant')['is_fraud'].mean()\n",
    "df_1['merchant_fraud_rate'] = df_1['merchant'].map(merchant_fraud_rate)\n"
   ]
  },
  {
   "cell_type": "code",
   "execution_count": 25,
   "metadata": {},
   "outputs": [],
   "source": [
    "df_2 = df_2.dropna()"
   ]
  },
  {
   "cell_type": "code",
   "execution_count": 26,
   "metadata": {},
   "outputs": [
    {
     "data": {
      "text/plain": [
       "Transaction ID            0\n",
       "Date                      0\n",
       "Day of Week               0\n",
       "Time                      0\n",
       "Type of Card              0\n",
       "Entry Mode                0\n",
       "Amount                    0\n",
       "Type of Transaction       0\n",
       "Merchant Group            0\n",
       "Country of Transaction    0\n",
       "Shipping Address          0\n",
       "Country of Residence      0\n",
       "Gender                    0\n",
       "Age                       0\n",
       "Bank                      0\n",
       "Fraud                     0\n",
       "dtype: int64"
      ]
     },
     "execution_count": 26,
     "metadata": {},
     "output_type": "execute_result"
    }
   ],
   "source": [
    "df_2.isnull().sum()"
   ]
  },
  {
   "cell_type": "code",
   "execution_count": null,
   "metadata": {},
   "outputs": [],
   "source": [
    "df_1['Day of Week'].unique()\n",
    "df_1['Type of Card'].unique()\n",
    "df_1['Entry Mode'].unique()\n",
    "df_1['Type of Transaction'].unique()\n",
    "df_1['Merchant Group'].unique()\n",
    "df_1['Country of Transaction'].unique()\n",
    "df_1['Country of Residence'].unique()\n",
    "df_1['Gender'].unique()\n",
    "\n",
    "df_1['Bank'].unique()\n",
    "df_1['Fraud'].unique()"
   ]
  },
  {
   "cell_type": "markdown",
   "metadata": {},
   "source": [
    "# OPERATIVE SECTION -03"
   ]
  },
  {
   "cell_type": "code",
   "execution_count": 4,
   "metadata": {},
   "outputs": [
    {
     "name": "stdout",
     "output_type": "stream",
     "text": [
      "Category mappings saved to category_mappings.txt ✅\n"
     ]
    }
   ],
   "source": [
    "import pandas as pd\n",
    "from sklearn.preprocessing import LabelEncoder\n",
    "\n",
    "# Define categorical columns\n",
    "categorical_cols = [\n",
    "    'Day of Week', 'Type of Card', 'Entry Mode', 'Type of Transaction',\n",
    "    'Merchant Group', 'Country of Transaction', 'Country of Residence',\n",
    "    'Gender', 'Bank', 'Fraud'\n",
    "]\n",
    "\n",
    "# Initialize dictionary for category mappings\n",
    "category_mappings = {}\n",
    "\n",
    "# Apply Label Encoding to categorical features safely\n",
    "for col in categorical_cols:\n",
    "    label_enc = LabelEncoder()\n",
    "    df_2.loc[:, col] = label_enc.fit_transform(df_2[col])  # Use .loc to avoid warning\n",
    "\n",
    "    # Save category mappings correctly\n",
    "    category_mappings[col] = {category: int(encoded) for category, encoded in zip(label_enc.classes_, label_enc.transform(label_enc.classes_))}\n",
    "\n",
    "# Save mappings to TXT in the correct format\n",
    "with open(\"category_mappings.txt\", \"w\", encoding=\"utf-8\") as f:\n",
    "    for col, mapping in category_mappings.items():\n",
    "        f.write(f\"### {col} ###\\n\")\n",
    "        for category, encoded in mapping.items():\n",
    "            f.write(f\"{category}: {encoded}\\n\")\n",
    "        f.write(\"\\n\")  # Add a newline between categories\n",
    "\n",
    "print(\"Category mappings saved to category_mappings.txt ✅\")\n"
   ]
  },
  {
   "cell_type": "code",
   "execution_count": 43,
   "metadata": {},
   "outputs": [],
   "source": [
    "df_1 = df_1.iloc[:-23]\n"
   ]
  },
  {
   "cell_type": "code",
   "execution_count": 46,
   "metadata": {},
   "outputs": [
    {
     "data": {
      "text/plain": [
       "(99977, 16)"
      ]
     },
     "execution_count": 46,
     "metadata": {},
     "output_type": "execute_result"
    }
   ],
   "source": [
    "df_2.shape"
   ]
  },
  {
   "cell_type": "code",
   "execution_count": 47,
   "metadata": {},
   "outputs": [],
   "source": [
    "df_1.to_csv(\"credit_updated_1.csv\", index=False)"
   ]
  },
  {
   "cell_type": "code",
   "execution_count": 187,
   "metadata": {},
   "outputs": [
    {
     "name": "stdout",
     "output_type": "stream",
     "text": [
      "Final DataFrame shape: (100000, 28)\n"
     ]
    }
   ],
   "source": [
    "import pandas as pd\n",
    "\n",
    "\n",
    "# Step 1: Drop NaN (null) values\n",
    "df_2 = df_2.dropna()\n",
    "\n",
    "# Step 2: Calculate how many more rows need to be removed\n",
    "rows_to_drop = 1000702 - (1100702 - len(df_2))  # Adjust for already dropped NaN rows\n",
    "\n",
    "# Step 3: Drop the remaining rows from the top\n",
    "if rows_to_drop > 0:\n",
    "    df_2 = df_2.iloc[rows_to_drop:]\n",
    "\n",
    "# Print final shape of the DataFrame\n",
    "print(\"Final DataFrame shape:\", df_2.shape)\n"
   ]
  },
  {
   "cell_type": "code",
   "execution_count": 2,
   "metadata": {},
   "outputs": [],
   "source": [
    "df1 = pd.read_csv(\"D:/Credit_Card_Spend_Analysis/data/credit_updated_1.csv\")\n",
    "df2 = pd.read_csv(\"D:/Credit_Card_Spend_Analysis/data/credit_update_2.csv\")"
   ]
  },
  {
   "cell_type": "code",
   "execution_count": 5,
   "metadata": {},
   "outputs": [
    {
     "data": {
      "text/plain": [
       "Index(['Unnamed: 0', 'trans_date_trans_time', 'cc_num', 'merchant', 'category',\n",
       "       'amt', 'first', 'last', 'gender', 'street', 'city', 'state', 'zip',\n",
       "       'lat', 'long', 'city_pop', 'job', 'dob', 'trans_num', 'unix_time',\n",
       "       'merch_lat', 'merch_long', 'is_fraud', 'merch_zipcode', 'Date', 'Time',\n",
       "       'company_parts', 'merchant_fraud_rate'],\n",
       "      dtype='object')"
      ]
     },
     "execution_count": 5,
     "metadata": {},
     "output_type": "execute_result"
    }
   ],
   "source": [
    "df1.columns"
   ]
  },
  {
   "cell_type": "code",
   "execution_count": 2,
   "metadata": {},
   "outputs": [],
   "source": [
    "df_2[\"transaction_description\"] = (\n",
    "    df_2[\"Merchant Group\"].astype(str) + \" \" +\n",
    "    df_2[\"Type of Transaction\"].astype(str) + \" \" +\n",
    "    df_2[\"Type of Card\"].astype(str)\n",
    ")\n",
    "df_2[\"transaction_description\"] = df_2[\"transaction_description\"].str.lower()\n"
   ]
  },
  {
   "cell_type": "code",
   "execution_count": 3,
   "metadata": {},
   "outputs": [
    {
     "data": {
      "text/plain": [
       "0             entertainment pos visa\n",
       "1            services pos mastercard\n",
       "2                restaurant pos visa\n",
       "3             entertainment pos visa\n",
       "4            electronics online visa\n",
       "                    ...             \n",
       "99995     electronics pos mastercard\n",
       "99996        children atm mastercard\n",
       "99997    subscription atm mastercard\n",
       "99998              products pos visa\n",
       "99999            restaurant pos visa\n",
       "Name: transaction_description, Length: 100000, dtype: object"
      ]
     },
     "execution_count": 3,
     "metadata": {},
     "output_type": "execute_result"
    }
   ],
   "source": [
    "df_2['transaction_description']"
   ]
  },
  {
   "cell_type": "code",
   "execution_count": 4,
   "metadata": {},
   "outputs": [],
   "source": [
    "df = pd.read_csv(\"D:/Credit_Card_Spend_Analysis/data/merged_credit_data.csv\")\n",
    "\n",
    "final_df = pd.concat([df, df_2['transaction_description']], axis=1)\n"
   ]
  },
  {
   "cell_type": "code",
   "execution_count": 5,
   "metadata": {},
   "outputs": [],
   "source": [
    "final_df.to_csv(\"merged_credit_data.csv\", index=False)"
   ]
  },
  {
   "cell_type": "markdown",
   "metadata": {},
   "source": [
    "# OPERATIVE SECTION -04"
   ]
  },
  {
   "cell_type": "code",
   "execution_count": 7,
   "metadata": {},
   "outputs": [
    {
     "name": "stderr",
     "output_type": "stream",
     "text": [
      "2025-02-15 05:12:41,279 - INFO - Loading the datasets...\n",
      "2025-02-15 05:12:42,858 - INFO - Dataset 1 loaded with 99977 rows and 28 columns.\n",
      "2025-02-15 05:12:42,860 - INFO - Dataset 2 loaded with 99977 rows and 16 columns.\n",
      "C:\\Users\\Subhan\\AppData\\Local\\Temp\\ipykernel_4392\\2335238837.py:28: UserWarning: Could not infer format, so each element will be parsed individually, falling back to `dateutil`. To ensure parsing is consistent and as-expected, please specify a format.\n",
      "  df_2_selected['ds'] = pd.to_datetime(\n",
      "2025-02-15 05:12:43,106 - INFO - Checking merge keys...\n",
      "2025-02-15 05:12:43,106 - INFO - Common columns found for merging: {'Amount', 'Fraud', 'ds'}\n",
      "2025-02-15 05:12:43,106 - INFO - Previewing 'ds' column values for debugging:\n",
      "2025-02-15 05:12:43,114 - INFO - Merging the datasets...\n"
     ]
    },
    {
     "name": "stdout",
     "output_type": "stream",
     "text": [
      "df_1_selected['ds'] sample:\n",
      " 0   2020-05-07 04:17:21\n",
      "1   2020-05-07 04:17:43\n",
      "2   2020-05-07 04:19:10\n",
      "3   2020-05-07 04:19:11\n",
      "4   2020-05-07 04:21:53\n",
      "Name: ds, dtype: datetime64[ns]\n",
      "df_2_selected['ds'] sample:\n",
      " 0   2020-10-14 19:00:00\n",
      "1   2020-10-14 17:00:00\n",
      "2   2020-10-14 14:00:00\n",
      "3   2020-10-13 14:00:00\n",
      "4   2020-10-13 23:00:00\n",
      "Name: ds, dtype: datetime64[ns]\n"
     ]
    },
    {
     "name": "stderr",
     "output_type": "stream",
     "text": [
      "2025-02-15 05:12:43,895 - INFO - Feature extraction and merging completed. Output saved as: D:/Credit_Card_Spend_Analysis/data/merged_credit_data.csv\n",
      "2025-02-15 05:12:43,895 - INFO - Merged dataset contains 99977 rows and 8 columns.\n"
     ]
    },
    {
     "name": "stdout",
     "output_type": "stream",
     "text": [
      "Feature extraction and merging completed. Output saved as: D:/Credit_Card_Spend_Analysis/data/merged_credit_data.csv\n"
     ]
    }
   ],
   "source": [
    "import pandas as pd\n",
    "import logging\n",
    "\n",
    "# Configure logging\n",
    "logging.basicConfig(level=logging.INFO, format=\"%(asctime)s - %(levelname)s - %(message)s\", force=True)\n",
    "\n",
    "# Load the datasets\n",
    "logging.info(\"Loading the datasets...\")\n",
    "\n",
    "df_1 = pd.read_csv(\"D:/Credit_Card_Spend_Analysis/data/credit_updated_1.csv\")\n",
    "df_2 = pd.read_csv(\"D:/Credit_Card_Spend_Analysis/data/credit_update_2.csv\")\n",
    "\n",
    "logging.info(f\"Dataset 1 loaded with {df_1.shape[0]} rows and {df_1.shape[1]} columns.\")\n",
    "logging.info(f\"Dataset 2 loaded with {df_2.shape[0]} rows and {df_2.shape[1]} columns.\")\n",
    "\n",
    "# Select relevant features from Dataset 1\n",
    "df_1_selected = df_1[['trans_date_trans_time', 'amt', 'is_fraud', 'category', 'cc_num']].copy()\n",
    "df_1_selected.rename(columns={'trans_date_trans_time': 'ds', 'amt': 'Amount', 'is_fraud': 'Fraud'}, inplace=True)\n",
    "\n",
    "# Convert 'ds' to datetime\n",
    "df_1_selected['ds'] = pd.to_datetime(df_1_selected['ds'], errors='coerce')\n",
    "\n",
    "# Select relevant features from Dataset 2\n",
    "df_2_selected = df_2[['Date', 'Time', 'Amount', 'Fraud', 'Merchant Group']].copy()\n",
    "\n",
    "# Convert Date and Time to datetime\n",
    "# Convert Date and Time to datetime safely\n",
    "df_2_selected['ds'] = pd.to_datetime(\n",
    "    df_2_selected['Date'].astype(str) + ' ' + df_2_selected['Time'].astype(str), \n",
    "    errors='coerce'\n",
    ")\n",
    "\n",
    "\n",
    "# Drop invalid dates (NaT)\n",
    "df_2_selected = df_2_selected.dropna(subset=['ds'])\n",
    "\n",
    "# Drop original Date and Time columns\n",
    "df_2_selected.drop(columns=['Date', 'Time'], inplace=True)\n",
    "\n",
    "# **Identify a proper merge key**\n",
    "logging.info(\"Checking merge keys...\")\n",
    "\n",
    "common_cols = set(df_1_selected.columns).intersection(set(df_2_selected.columns))\n",
    "if not common_cols:\n",
    "    logging.error(\"No common columns found for merging! Please check your datasets.\")\n",
    "else:\n",
    "    logging.info(f\"Common columns found for merging: {common_cols}\")\n",
    "\n",
    "# **Preview 'ds' Column Before Merging**\n",
    "logging.info(\"Previewing 'ds' column values for debugging:\")\n",
    "print(\"df_1_selected['ds'] sample:\\n\", df_1_selected['ds'].head())\n",
    "print(\"df_2_selected['ds'] sample:\\n\", df_2_selected['ds'].head())\n",
    "\n",
    "# **Perform the merge**\n",
    "logging.info(\"Merging the datasets...\")\n",
    "\n",
    "df_merged = pd.merge_asof(\n",
    "    df_1_selected.sort_values('ds'),\n",
    "    df_2_selected.sort_values('ds'),\n",
    "    on='ds',\n",
    "    direction='nearest'  # Matches closest timestamp\n",
    ")\n",
    "\n",
    "# Save the merged dataset\n",
    "output_path = \"D:/Credit_Card_Spend_Analysis/data/merged_credit_data.csv\"\n",
    "df_merged.to_csv(output_path, index=False)\n",
    "\n",
    "logging.info(f\"Feature extraction and merging completed. Output saved as: {output_path}\")\n",
    "print(f\"Feature extraction and merging completed. Output saved as: {output_path}\")\n",
    "\n",
    "# Display summary of merged data\n",
    "if df_merged.empty:\n",
    "    logging.warning(\"Merged dataset is empty! Check date formats and merge keys.\")\n",
    "else:\n",
    "    logging.info(f\"Merged dataset contains {df_merged.shape[0]} rows and {df_merged.shape[1]} columns.\")\n"
   ]
  },
  {
   "cell_type": "code",
   "execution_count": null,
   "metadata": {},
   "outputs": [],
   "source": []
  }
 ],
 "metadata": {
  "kernelspec": {
   "display_name": "ml-env",
   "language": "python",
   "name": "python3"
  },
  "language_info": {
   "codemirror_mode": {
    "name": "ipython",
    "version": 3
   },
   "file_extension": ".py",
   "mimetype": "text/x-python",
   "name": "python",
   "nbconvert_exporter": "python",
   "pygments_lexer": "ipython3",
   "version": "3.9.21"
  }
 },
 "nbformat": 4,
 "nbformat_minor": 2
}
